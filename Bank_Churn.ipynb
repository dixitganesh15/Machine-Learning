{
  "nbformat": 4,
  "nbformat_minor": 0,
  "metadata": {
    "colab": {
      "name": "Bank Churn.ipynb",
      "provenance": [],
      "authorship_tag": "ABX9TyN2F3o278hGPGCa5MAYNOmB",
      "include_colab_link": true
    },
    "kernelspec": {
      "name": "python3",
      "display_name": "Python 3"
    },
    "accelerator": "GPU"
  },
  "cells": [
    {
      "cell_type": "markdown",
      "metadata": {
        "id": "view-in-github",
        "colab_type": "text"
      },
      "source": [
        "<a href=\"https://colab.research.google.com/github/dixitganesh15/Machine-Learning/blob/master/Bank_Churn.ipynb\" target=\"_parent\"><img src=\"https://colab.research.google.com/assets/colab-badge.svg\" alt=\"Open In Colab\"/></a>"
      ]
    },
    {
      "cell_type": "code",
      "metadata": {
        "id": "Y_FJvohP9NHQ",
        "colab_type": "code",
        "colab": {
          "base_uri": "https://localhost:8080/",
          "height": 73
        },
        "outputId": "78b3e712-8833-4be2-9588-4903d9e5720c"
      },
      "source": [
        "import pandas as pd\n",
        "import numpy as np\n",
        "import matplotlib.pyplot as plt\n",
        "import seaborn as sns\n"
      ],
      "execution_count": 1,
      "outputs": [
        {
          "output_type": "stream",
          "text": [
            "/usr/local/lib/python3.6/dist-packages/statsmodels/tools/_testing.py:19: FutureWarning: pandas.util.testing is deprecated. Use the functions in the public API at pandas.testing instead.\n",
            "  import pandas.util.testing as tm\n"
          ],
          "name": "stderr"
        }
      ]
    },
    {
      "cell_type": "code",
      "metadata": {
        "id": "hY_EOeNg9lRS",
        "colab_type": "code",
        "colab": {}
      },
      "source": [
        "df = pd.read_csv(r\"/content/Churn_Modelling.csv\")"
      ],
      "execution_count": 0,
      "outputs": []
    },
    {
      "cell_type": "code",
      "metadata": {
        "id": "iOYaSbbL9umS",
        "colab_type": "code",
        "colab": {
          "base_uri": "https://localhost:8080/",
          "height": 226
        },
        "outputId": "1cdfbffc-7735-4d7c-94a1-81836a93c2c8"
      },
      "source": [
        "df.head()"
      ],
      "execution_count": 3,
      "outputs": [
        {
          "output_type": "execute_result",
          "data": {
            "text/html": [
              "<div>\n",
              "<style scoped>\n",
              "    .dataframe tbody tr th:only-of-type {\n",
              "        vertical-align: middle;\n",
              "    }\n",
              "\n",
              "    .dataframe tbody tr th {\n",
              "        vertical-align: top;\n",
              "    }\n",
              "\n",
              "    .dataframe thead th {\n",
              "        text-align: right;\n",
              "    }\n",
              "</style>\n",
              "<table border=\"1\" class=\"dataframe\">\n",
              "  <thead>\n",
              "    <tr style=\"text-align: right;\">\n",
              "      <th></th>\n",
              "      <th>RowNumber</th>\n",
              "      <th>CustomerId</th>\n",
              "      <th>Surname</th>\n",
              "      <th>CreditScore</th>\n",
              "      <th>Geography</th>\n",
              "      <th>Gender</th>\n",
              "      <th>Age</th>\n",
              "      <th>Tenure</th>\n",
              "      <th>Balance</th>\n",
              "      <th>NumOfProducts</th>\n",
              "      <th>HasCrCard</th>\n",
              "      <th>IsActiveMember</th>\n",
              "      <th>EstimatedSalary</th>\n",
              "      <th>Exited</th>\n",
              "    </tr>\n",
              "  </thead>\n",
              "  <tbody>\n",
              "    <tr>\n",
              "      <th>0</th>\n",
              "      <td>1</td>\n",
              "      <td>15634602</td>\n",
              "      <td>Hargrave</td>\n",
              "      <td>619</td>\n",
              "      <td>France</td>\n",
              "      <td>Female</td>\n",
              "      <td>42</td>\n",
              "      <td>2</td>\n",
              "      <td>0.00</td>\n",
              "      <td>1</td>\n",
              "      <td>1</td>\n",
              "      <td>1</td>\n",
              "      <td>101348.88</td>\n",
              "      <td>1</td>\n",
              "    </tr>\n",
              "    <tr>\n",
              "      <th>1</th>\n",
              "      <td>2</td>\n",
              "      <td>15647311</td>\n",
              "      <td>Hill</td>\n",
              "      <td>608</td>\n",
              "      <td>Spain</td>\n",
              "      <td>Female</td>\n",
              "      <td>41</td>\n",
              "      <td>1</td>\n",
              "      <td>83807.86</td>\n",
              "      <td>1</td>\n",
              "      <td>0</td>\n",
              "      <td>1</td>\n",
              "      <td>112542.58</td>\n",
              "      <td>0</td>\n",
              "    </tr>\n",
              "    <tr>\n",
              "      <th>2</th>\n",
              "      <td>3</td>\n",
              "      <td>15619304</td>\n",
              "      <td>Onio</td>\n",
              "      <td>502</td>\n",
              "      <td>France</td>\n",
              "      <td>Female</td>\n",
              "      <td>42</td>\n",
              "      <td>8</td>\n",
              "      <td>159660.80</td>\n",
              "      <td>3</td>\n",
              "      <td>1</td>\n",
              "      <td>0</td>\n",
              "      <td>113931.57</td>\n",
              "      <td>1</td>\n",
              "    </tr>\n",
              "    <tr>\n",
              "      <th>3</th>\n",
              "      <td>4</td>\n",
              "      <td>15701354</td>\n",
              "      <td>Boni</td>\n",
              "      <td>699</td>\n",
              "      <td>France</td>\n",
              "      <td>Female</td>\n",
              "      <td>39</td>\n",
              "      <td>1</td>\n",
              "      <td>0.00</td>\n",
              "      <td>2</td>\n",
              "      <td>0</td>\n",
              "      <td>0</td>\n",
              "      <td>93826.63</td>\n",
              "      <td>0</td>\n",
              "    </tr>\n",
              "    <tr>\n",
              "      <th>4</th>\n",
              "      <td>5</td>\n",
              "      <td>15737888</td>\n",
              "      <td>Mitchell</td>\n",
              "      <td>850</td>\n",
              "      <td>Spain</td>\n",
              "      <td>Female</td>\n",
              "      <td>43</td>\n",
              "      <td>2</td>\n",
              "      <td>125510.82</td>\n",
              "      <td>1</td>\n",
              "      <td>1</td>\n",
              "      <td>1</td>\n",
              "      <td>79084.10</td>\n",
              "      <td>0</td>\n",
              "    </tr>\n",
              "  </tbody>\n",
              "</table>\n",
              "</div>"
            ],
            "text/plain": [
              "   RowNumber  CustomerId   Surname  ...  IsActiveMember EstimatedSalary Exited\n",
              "0          1    15634602  Hargrave  ...               1       101348.88      1\n",
              "1          2    15647311      Hill  ...               1       112542.58      0\n",
              "2          3    15619304      Onio  ...               0       113931.57      1\n",
              "3          4    15701354      Boni  ...               0        93826.63      0\n",
              "4          5    15737888  Mitchell  ...               1        79084.10      0\n",
              "\n",
              "[5 rows x 14 columns]"
            ]
          },
          "metadata": {
            "tags": []
          },
          "execution_count": 3
        }
      ]
    },
    {
      "cell_type": "code",
      "metadata": {
        "id": "lfpJI7Rq9wRq",
        "colab_type": "code",
        "colab": {}
      },
      "source": [
        "gen = pd.get_dummies(df['Gender'], drop_first=True)\n",
        "geo = pd.get_dummies(df['Geography'], prefix='Country',drop_first=True)"
      ],
      "execution_count": 0,
      "outputs": []
    },
    {
      "cell_type": "code",
      "metadata": {
        "id": "xMWnsY89_PAu",
        "colab_type": "code",
        "colab": {}
      },
      "source": [
        "df = pd.concat([df,gen,geo], axis=1)"
      ],
      "execution_count": 0,
      "outputs": []
    },
    {
      "cell_type": "code",
      "metadata": {
        "id": "4DKJfKXp_QfR",
        "colab_type": "code",
        "colab": {}
      },
      "source": [
        "df.drop(['CustomerId','Surname','Geography','Gender'], axis=1, inplace=True)"
      ],
      "execution_count": 0,
      "outputs": []
    },
    {
      "cell_type": "code",
      "metadata": {
        "id": "4fH8dvD_C8rj",
        "colab_type": "code",
        "colab": {
          "base_uri": "https://localhost:8080/",
          "height": 35
        },
        "outputId": "c5e7f0ef-1285-441f-89b9-b738480e517e"
      },
      "source": [
        "df.shape"
      ],
      "execution_count": 7,
      "outputs": [
        {
          "output_type": "execute_result",
          "data": {
            "text/plain": [
              "(10000, 13)"
            ]
          },
          "metadata": {
            "tags": []
          },
          "execution_count": 7
        }
      ]
    },
    {
      "cell_type": "code",
      "metadata": {
        "id": "g33k0jRFDAkC",
        "colab_type": "code",
        "colab": {}
      },
      "source": [
        "df.drop(['RowNumber'], axis=1, inplace=True)"
      ],
      "execution_count": 0,
      "outputs": []
    },
    {
      "cell_type": "code",
      "metadata": {
        "id": "-syY27qmDKhi",
        "colab_type": "code",
        "colab": {
          "base_uri": "https://localhost:8080/",
          "height": 253
        },
        "outputId": "51c2c858-c4e0-4146-ece3-5b04d60679a9"
      },
      "source": [
        "df.isnull().sum()"
      ],
      "execution_count": 9,
      "outputs": [
        {
          "output_type": "execute_result",
          "data": {
            "text/plain": [
              "CreditScore        0\n",
              "Age                0\n",
              "Tenure             0\n",
              "Balance            0\n",
              "NumOfProducts      0\n",
              "HasCrCard          0\n",
              "IsActiveMember     0\n",
              "EstimatedSalary    0\n",
              "Exited             0\n",
              "Male               0\n",
              "Country_Germany    0\n",
              "Country_Spain      0\n",
              "dtype: int64"
            ]
          },
          "metadata": {
            "tags": []
          },
          "execution_count": 9
        }
      ]
    },
    {
      "cell_type": "code",
      "metadata": {
        "id": "NOqdh0-8DO7_",
        "colab_type": "code",
        "colab": {
          "base_uri": "https://localhost:8080/",
          "height": 338
        },
        "outputId": "7f58a9a9-b9e4-48e1-82f9-41116990ec17"
      },
      "source": [
        "plt.hist('Age',data=df, bins=10)"
      ],
      "execution_count": 10,
      "outputs": [
        {
          "output_type": "execute_result",
          "data": {
            "text/plain": [
              "(array([ 611., 2179., 3629., 1871.,  828.,  523.,  208.,  127.,   20.,\n",
              "           4.]),\n",
              " array([18. , 25.4, 32.8, 40.2, 47.6, 55. , 62.4, 69.8, 77.2, 84.6, 92. ]),\n",
              " <a list of 10 Patch objects>)"
            ]
          },
          "metadata": {
            "tags": []
          },
          "execution_count": 10
        },
        {
          "output_type": "display_data",
          "data": {
            "image/png": "[encoded data removed]",
            "text/plain": [
              "<Figure size 432x288 with 1 Axes>"
            ]
          },
          "metadata": {
            "tags": [],
            "needs_background": "light"
          }
        }
      ]
    },
    {
      "cell_type": "code",
      "metadata": {
        "id": "DzLBt8JJDZJ5",
        "colab_type": "code",
        "colab": {}
      },
      "source": [
        "# sns.pairplot(df)"
      ],
      "execution_count": 0,
      "outputs": []
    },
    {
      "cell_type": "code",
      "metadata": {
        "id": "MZxsxjCED1Au",
        "colab_type": "code",
        "colab": {}
      },
      "source": [
        "X = df.drop('Exited', axis=1)\n",
        "y = df['Exited']"
      ],
      "execution_count": 0,
      "outputs": []
    },
    {
      "cell_type": "code",
      "metadata": {
        "id": "AUT1YL_gGVsY",
        "colab_type": "code",
        "colab": {
          "base_uri": "https://localhost:8080/",
          "height": 35
        },
        "outputId": "58b62f39-c311-44b8-e924-4c73dc65eda3"
      },
      "source": [
        "X.shape"
      ],
      "execution_count": 13,
      "outputs": [
        {
          "output_type": "execute_result",
          "data": {
            "text/plain": [
              "(10000, 11)"
            ]
          },
          "metadata": {
            "tags": []
          },
          "execution_count": 13
        }
      ]
    },
    {
      "cell_type": "code",
      "metadata": {
        "id": "aQLtBj9_EK_l",
        "colab_type": "code",
        "colab": {}
      },
      "source": [
        "from sklearn.model_selection import train_test_split\n",
        "X_train, X_test, y_train, y_test = train_test_split(X, y, test_size = 0.25, random_state=0)"
      ],
      "execution_count": 0,
      "outputs": []
    },
    {
      "cell_type": "code",
      "metadata": {
        "id": "N9GPRG9fEiBT",
        "colab_type": "code",
        "colab": {}
      },
      "source": [
        "from sklearn.preprocessing import StandardScaler\n",
        "sc = StandardScaler()\n",
        "X_train = sc.fit_transform(X_train)\n",
        "X_test = sc.transform(X_test)"
      ],
      "execution_count": 0,
      "outputs": []
    },
    {
      "cell_type": "code",
      "metadata": {
        "id": "KsRdQIatFVDX",
        "colab_type": "code",
        "colab": {}
      },
      "source": [
        "import tensorflow.keras"
      ],
      "execution_count": 0,
      "outputs": []
    },
    {
      "cell_type": "code",
      "metadata": {
        "id": "kQefPRvpFeU2",
        "colab_type": "code",
        "colab": {}
      },
      "source": [
        "from tensorflow.keras.models import Sequential\n",
        "from tensorflow.keras.layers import Dense, Dropout"
      ],
      "execution_count": 0,
      "outputs": []
    },
    {
      "cell_type": "code",
      "metadata": {
        "id": "L36bukWTGA_b",
        "colab_type": "code",
        "colab": {}
      },
      "source": [
        "model = Sequential()\n",
        "\n",
        "model.add(Dense(16, activation='relu', kernel_initializer='he_uniform',input_dim=11))\n",
        "model.add(Dropout(0.2))\n",
        "model.add(Dense(32, activation='relu',kernel_initializer='he_uniform'))\n",
        "model.add(Dropout(0.3))\n",
        "model.add(Dense(64,activation='relu',kernel_initializer='he_uniform'))\n",
        "model.add(Dropout(0.2))\n",
        "model.add(Dense(32, activation='relu',kernel_initializer='he_uniform'))\n",
        "model.add(Dropout(0.3))\n",
        "model.add(Dense(16, activation='relu',kernel_initializer='he_uniform'))\n",
        "model.add(Dropout(0.2))\n",
        "model.add(Dense(1, activation='sigmoid',kernel_initializer='glorot_uniform'))\n",
        "\n",
        "model.compile(optimizer='adam', loss='binary_crossentropy', metrics=['accuracy'])"
      ],
      "execution_count": 0,
      "outputs": []
    },
    {
      "cell_type": "code",
      "metadata": {
        "id": "OAGh-VCVH6Nu",
        "colab_type": "code",
        "colab": {
          "base_uri": "https://localhost:8080/",
          "height": 1000
        },
        "outputId": "a580ca81-0d0b-4820-f898-38fda5703742"
      },
      "source": [
        "model.fit(X_train,y_train, epochs=100, verbose=1, validation_split=0.2)"
      ],
      "execution_count": 19,
      "outputs": [
        {
          "output_type": "stream",
          "text": [
            "Epoch 1/100\n",
            "188/188 [==============================] - 1s 4ms/step - loss: 0.7434 - accuracy: 0.7210 - val_loss: 0.5226 - val_accuracy: 0.8020\n",
            "Epoch 2/100\n",
            "188/188 [==============================] - 1s 3ms/step - loss: 0.5553 - accuracy: 0.7747 - val_loss: 0.5184 - val_accuracy: 0.7967\n",
            "Epoch 3/100\n",
            "188/188 [==============================] - 1s 3ms/step - loss: 0.5202 - accuracy: 0.7918 - val_loss: 0.4993 - val_accuracy: 0.7967\n",
            "Epoch 4/100\n",
            "188/188 [==============================] - 1s 3ms/step - loss: 0.5085 - accuracy: 0.7947 - val_loss: 0.5008 - val_accuracy: 0.7967\n",
            "Epoch 5/100\n",
            "188/188 [==============================] - 1s 3ms/step - loss: 0.5027 - accuracy: 0.7947 - val_loss: 0.4891 - val_accuracy: 0.7967\n",
            "Epoch 6/100\n",
            "188/188 [==============================] - 1s 3ms/step - loss: 0.4886 - accuracy: 0.7958 - val_loss: 0.4725 - val_accuracy: 0.7967\n",
            "Epoch 7/100\n",
            "188/188 [==============================] - 1s 3ms/step - loss: 0.4832 - accuracy: 0.7963 - val_loss: 0.4667 - val_accuracy: 0.7967\n",
            "Epoch 8/100\n",
            "188/188 [==============================] - 1s 3ms/step - loss: 0.4782 - accuracy: 0.7955 - val_loss: 0.4588 - val_accuracy: 0.7967\n",
            "Epoch 9/100\n",
            "188/188 [==============================] - 1s 3ms/step - loss: 0.4718 - accuracy: 0.7962 - val_loss: 0.4580 - val_accuracy: 0.7967\n",
            "Epoch 10/100\n",
            "188/188 [==============================] - 1s 3ms/step - loss: 0.4663 - accuracy: 0.7970 - val_loss: 0.4486 - val_accuracy: 0.7967\n",
            "Epoch 11/100\n",
            "188/188 [==============================] - 1s 3ms/step - loss: 0.4635 - accuracy: 0.7978 - val_loss: 0.4464 - val_accuracy: 0.7967\n",
            "Epoch 12/100\n",
            "188/188 [==============================] - 1s 3ms/step - loss: 0.4546 - accuracy: 0.7983 - val_loss: 0.4431 - val_accuracy: 0.7980\n",
            "Epoch 13/100\n",
            "188/188 [==============================] - 1s 3ms/step - loss: 0.4497 - accuracy: 0.8007 - val_loss: 0.4404 - val_accuracy: 0.8080\n",
            "Epoch 14/100\n",
            "188/188 [==============================] - 1s 3ms/step - loss: 0.4516 - accuracy: 0.8033 - val_loss: 0.4414 - val_accuracy: 0.8027\n",
            "Epoch 15/100\n",
            "188/188 [==============================] - 1s 3ms/step - loss: 0.4473 - accuracy: 0.8028 - val_loss: 0.4384 - val_accuracy: 0.8100\n",
            "Epoch 16/100\n",
            "188/188 [==============================] - 1s 3ms/step - loss: 0.4421 - accuracy: 0.8062 - val_loss: 0.4289 - val_accuracy: 0.8147\n",
            "Epoch 17/100\n",
            "188/188 [==============================] - 1s 3ms/step - loss: 0.4411 - accuracy: 0.8083 - val_loss: 0.4278 - val_accuracy: 0.8127\n",
            "Epoch 18/100\n",
            "188/188 [==============================] - 1s 3ms/step - loss: 0.4357 - accuracy: 0.8127 - val_loss: 0.4216 - val_accuracy: 0.8120\n",
            "Epoch 19/100\n",
            "188/188 [==============================] - 1s 3ms/step - loss: 0.4283 - accuracy: 0.8132 - val_loss: 0.4213 - val_accuracy: 0.8173\n",
            "Epoch 20/100\n",
            "188/188 [==============================] - 1s 3ms/step - loss: 0.4257 - accuracy: 0.8140 - val_loss: 0.4188 - val_accuracy: 0.8207\n",
            "Epoch 21/100\n",
            "188/188 [==============================] - 1s 3ms/step - loss: 0.4242 - accuracy: 0.8175 - val_loss: 0.4233 - val_accuracy: 0.8133\n",
            "Epoch 22/100\n",
            "188/188 [==============================] - 1s 3ms/step - loss: 0.4223 - accuracy: 0.8172 - val_loss: 0.4157 - val_accuracy: 0.8200\n",
            "Epoch 23/100\n",
            "188/188 [==============================] - 1s 3ms/step - loss: 0.4243 - accuracy: 0.8192 - val_loss: 0.4088 - val_accuracy: 0.8187\n",
            "Epoch 24/100\n",
            "188/188 [==============================] - 1s 3ms/step - loss: 0.4201 - accuracy: 0.8137 - val_loss: 0.4109 - val_accuracy: 0.8120\n",
            "Epoch 25/100\n",
            "188/188 [==============================] - 1s 3ms/step - loss: 0.4135 - accuracy: 0.8228 - val_loss: 0.4082 - val_accuracy: 0.8273\n",
            "Epoch 26/100\n",
            "188/188 [==============================] - 1s 3ms/step - loss: 0.4104 - accuracy: 0.8265 - val_loss: 0.4099 - val_accuracy: 0.8280\n",
            "Epoch 27/100\n",
            "188/188 [==============================] - 1s 3ms/step - loss: 0.4053 - accuracy: 0.8323 - val_loss: 0.3958 - val_accuracy: 0.8313\n",
            "Epoch 28/100\n",
            "188/188 [==============================] - 1s 3ms/step - loss: 0.4075 - accuracy: 0.8308 - val_loss: 0.3963 - val_accuracy: 0.8333\n",
            "Epoch 29/100\n",
            "188/188 [==============================] - 1s 3ms/step - loss: 0.4031 - accuracy: 0.8282 - val_loss: 0.3928 - val_accuracy: 0.8313\n",
            "Epoch 30/100\n",
            "188/188 [==============================] - 1s 3ms/step - loss: 0.3964 - accuracy: 0.8328 - val_loss: 0.3931 - val_accuracy: 0.8260\n",
            "Epoch 31/100\n",
            "188/188 [==============================] - 1s 3ms/step - loss: 0.3941 - accuracy: 0.8367 - val_loss: 0.3978 - val_accuracy: 0.8140\n",
            "Epoch 32/100\n",
            "188/188 [==============================] - 1s 3ms/step - loss: 0.3910 - accuracy: 0.8343 - val_loss: 0.3804 - val_accuracy: 0.8347\n",
            "Epoch 33/100\n",
            "188/188 [==============================] - 1s 3ms/step - loss: 0.3884 - accuracy: 0.8343 - val_loss: 0.3828 - val_accuracy: 0.8273\n",
            "Epoch 34/100\n",
            "188/188 [==============================] - 1s 3ms/step - loss: 0.3931 - accuracy: 0.8362 - val_loss: 0.3795 - val_accuracy: 0.8313\n",
            "Epoch 35/100\n",
            "188/188 [==============================] - 1s 3ms/step - loss: 0.3896 - accuracy: 0.8382 - val_loss: 0.3861 - val_accuracy: 0.8347\n",
            "Epoch 36/100\n",
            "188/188 [==============================] - 1s 3ms/step - loss: 0.3808 - accuracy: 0.8433 - val_loss: 0.3739 - val_accuracy: 0.8380\n",
            "Epoch 37/100\n",
            "188/188 [==============================] - 1s 3ms/step - loss: 0.3864 - accuracy: 0.8400 - val_loss: 0.3754 - val_accuracy: 0.8373\n",
            "Epoch 38/100\n",
            "188/188 [==============================] - 1s 3ms/step - loss: 0.3863 - accuracy: 0.8425 - val_loss: 0.3789 - val_accuracy: 0.8340\n",
            "Epoch 39/100\n",
            "188/188 [==============================] - 1s 3ms/step - loss: 0.3779 - accuracy: 0.8443 - val_loss: 0.3747 - val_accuracy: 0.8380\n",
            "Epoch 40/100\n",
            "188/188 [==============================] - 1s 3ms/step - loss: 0.3832 - accuracy: 0.8407 - val_loss: 0.3728 - val_accuracy: 0.8387\n",
            "Epoch 41/100\n",
            "188/188 [==============================] - 1s 3ms/step - loss: 0.3832 - accuracy: 0.8442 - val_loss: 0.3757 - val_accuracy: 0.8360\n",
            "Epoch 42/100\n",
            "188/188 [==============================] - 1s 3ms/step - loss: 0.3771 - accuracy: 0.8423 - val_loss: 0.3740 - val_accuracy: 0.8387\n",
            "Epoch 43/100\n",
            "188/188 [==============================] - 1s 3ms/step - loss: 0.3734 - accuracy: 0.8452 - val_loss: 0.3760 - val_accuracy: 0.8380\n",
            "Epoch 44/100\n",
            "188/188 [==============================] - 1s 3ms/step - loss: 0.3788 - accuracy: 0.8460 - val_loss: 0.3811 - val_accuracy: 0.8340\n",
            "Epoch 45/100\n",
            "188/188 [==============================] - 1s 3ms/step - loss: 0.3709 - accuracy: 0.8438 - val_loss: 0.3697 - val_accuracy: 0.8373\n",
            "Epoch 46/100\n",
            "188/188 [==============================] - 1s 3ms/step - loss: 0.3747 - accuracy: 0.8460 - val_loss: 0.3707 - val_accuracy: 0.8373\n",
            "Epoch 47/100\n",
            "188/188 [==============================] - 1s 3ms/step - loss: 0.3700 - accuracy: 0.8412 - val_loss: 0.3706 - val_accuracy: 0.8373\n",
            "Epoch 48/100\n",
            "188/188 [==============================] - 1s 3ms/step - loss: 0.3761 - accuracy: 0.8468 - val_loss: 0.3784 - val_accuracy: 0.8280\n",
            "Epoch 49/100\n",
            "188/188 [==============================] - 1s 3ms/step - loss: 0.3739 - accuracy: 0.8438 - val_loss: 0.3648 - val_accuracy: 0.8427\n",
            "Epoch 50/100\n",
            "188/188 [==============================] - 1s 3ms/step - loss: 0.3670 - accuracy: 0.8482 - val_loss: 0.3668 - val_accuracy: 0.8367\n",
            "Epoch 51/100\n",
            "188/188 [==============================] - 1s 3ms/step - loss: 0.3680 - accuracy: 0.8475 - val_loss: 0.3667 - val_accuracy: 0.8393\n",
            "Epoch 52/100\n",
            "188/188 [==============================] - 1s 3ms/step - loss: 0.3685 - accuracy: 0.8462 - val_loss: 0.3671 - val_accuracy: 0.8380\n",
            "Epoch 53/100\n",
            "188/188 [==============================] - 1s 3ms/step - loss: 0.3688 - accuracy: 0.8450 - val_loss: 0.3744 - val_accuracy: 0.8380\n",
            "Epoch 54/100\n",
            "188/188 [==============================] - 1s 3ms/step - loss: 0.3699 - accuracy: 0.8448 - val_loss: 0.3663 - val_accuracy: 0.8407\n",
            "Epoch 55/100\n",
            "188/188 [==============================] - 1s 3ms/step - loss: 0.3692 - accuracy: 0.8475 - val_loss: 0.3664 - val_accuracy: 0.8427\n",
            "Epoch 56/100\n",
            "188/188 [==============================] - 1s 3ms/step - loss: 0.3667 - accuracy: 0.8522 - val_loss: 0.3648 - val_accuracy: 0.8420\n",
            "Epoch 57/100\n",
            "188/188 [==============================] - 1s 3ms/step - loss: 0.3660 - accuracy: 0.8507 - val_loss: 0.3626 - val_accuracy: 0.8447\n",
            "Epoch 58/100\n",
            "188/188 [==============================] - 1s 3ms/step - loss: 0.3649 - accuracy: 0.8498 - val_loss: 0.3652 - val_accuracy: 0.8420\n",
            "Epoch 59/100\n",
            "188/188 [==============================] - 1s 3ms/step - loss: 0.3676 - accuracy: 0.8458 - val_loss: 0.3659 - val_accuracy: 0.8413\n",
            "Epoch 60/100\n",
            "188/188 [==============================] - 1s 3ms/step - loss: 0.3627 - accuracy: 0.8498 - val_loss: 0.3753 - val_accuracy: 0.8340\n",
            "Epoch 61/100\n",
            "188/188 [==============================] - 1s 3ms/step - loss: 0.3633 - accuracy: 0.8473 - val_loss: 0.3681 - val_accuracy: 0.8400\n",
            "Epoch 62/100\n",
            "188/188 [==============================] - 1s 3ms/step - loss: 0.3622 - accuracy: 0.8475 - val_loss: 0.3662 - val_accuracy: 0.8420\n",
            "Epoch 63/100\n",
            "188/188 [==============================] - 1s 3ms/step - loss: 0.3647 - accuracy: 0.8462 - val_loss: 0.3706 - val_accuracy: 0.8380\n",
            "Epoch 64/100\n",
            "188/188 [==============================] - 1s 3ms/step - loss: 0.3668 - accuracy: 0.8478 - val_loss: 0.3675 - val_accuracy: 0.8387\n",
            "Epoch 65/100\n",
            "188/188 [==============================] - 1s 3ms/step - loss: 0.3647 - accuracy: 0.8490 - val_loss: 0.3688 - val_accuracy: 0.8367\n",
            "Epoch 66/100\n",
            "188/188 [==============================] - 1s 3ms/step - loss: 0.3622 - accuracy: 0.8515 - val_loss: 0.3655 - val_accuracy: 0.8447\n",
            "Epoch 67/100\n",
            "188/188 [==============================] - 1s 3ms/step - loss: 0.3598 - accuracy: 0.8468 - val_loss: 0.3624 - val_accuracy: 0.8433\n",
            "Epoch 68/100\n",
            "188/188 [==============================] - 1s 3ms/step - loss: 0.3625 - accuracy: 0.8497 - val_loss: 0.3706 - val_accuracy: 0.8427\n",
            "Epoch 69/100\n",
            "188/188 [==============================] - 1s 3ms/step - loss: 0.3595 - accuracy: 0.8493 - val_loss: 0.3704 - val_accuracy: 0.8413\n",
            "Epoch 70/100\n",
            "188/188 [==============================] - 1s 3ms/step - loss: 0.3621 - accuracy: 0.8523 - val_loss: 0.3732 - val_accuracy: 0.8360\n",
            "Epoch 71/100\n",
            "188/188 [==============================] - 1s 3ms/step - loss: 0.3590 - accuracy: 0.8515 - val_loss: 0.3705 - val_accuracy: 0.8393\n",
            "Epoch 72/100\n",
            "188/188 [==============================] - 1s 3ms/step - loss: 0.3671 - accuracy: 0.8462 - val_loss: 0.3633 - val_accuracy: 0.8413\n",
            "Epoch 73/100\n",
            "188/188 [==============================] - 1s 3ms/step - loss: 0.3620 - accuracy: 0.8497 - val_loss: 0.3700 - val_accuracy: 0.8380\n",
            "Epoch 74/100\n",
            "188/188 [==============================] - 1s 3ms/step - loss: 0.3685 - accuracy: 0.8440 - val_loss: 0.3735 - val_accuracy: 0.8420\n",
            "Epoch 75/100\n",
            "188/188 [==============================] - 1s 3ms/step - loss: 0.3589 - accuracy: 0.8525 - val_loss: 0.3622 - val_accuracy: 0.8453\n",
            "Epoch 76/100\n",
            "188/188 [==============================] - 1s 3ms/step - loss: 0.3603 - accuracy: 0.8508 - val_loss: 0.3734 - val_accuracy: 0.8307\n",
            "Epoch 77/100\n",
            "188/188 [==============================] - 1s 3ms/step - loss: 0.3617 - accuracy: 0.8540 - val_loss: 0.3635 - val_accuracy: 0.8427\n",
            "Epoch 78/100\n",
            "188/188 [==============================] - 1s 3ms/step - loss: 0.3563 - accuracy: 0.8527 - val_loss: 0.3634 - val_accuracy: 0.8447\n",
            "Epoch 79/100\n",
            "188/188 [==============================] - 1s 3ms/step - loss: 0.3630 - accuracy: 0.8500 - val_loss: 0.3699 - val_accuracy: 0.8440\n",
            "Epoch 80/100\n",
            "188/188 [==============================] - 1s 3ms/step - loss: 0.3542 - accuracy: 0.8513 - val_loss: 0.3674 - val_accuracy: 0.8440\n",
            "Epoch 81/100\n",
            "188/188 [==============================] - 1s 3ms/step - loss: 0.3659 - accuracy: 0.8505 - val_loss: 0.3691 - val_accuracy: 0.8413\n",
            "Epoch 82/100\n",
            "188/188 [==============================] - 1s 3ms/step - loss: 0.3552 - accuracy: 0.8545 - val_loss: 0.3664 - val_accuracy: 0.8433\n",
            "Epoch 83/100\n",
            "188/188 [==============================] - 1s 3ms/step - loss: 0.3595 - accuracy: 0.8500 - val_loss: 0.3620 - val_accuracy: 0.8480\n",
            "Epoch 84/100\n",
            "188/188 [==============================] - 1s 3ms/step - loss: 0.3525 - accuracy: 0.8502 - val_loss: 0.3628 - val_accuracy: 0.8473\n",
            "Epoch 85/100\n",
            "188/188 [==============================] - 1s 3ms/step - loss: 0.3572 - accuracy: 0.8502 - val_loss: 0.3672 - val_accuracy: 0.8420\n",
            "Epoch 86/100\n",
            "188/188 [==============================] - 1s 3ms/step - loss: 0.3629 - accuracy: 0.8477 - val_loss: 0.3665 - val_accuracy: 0.8420\n",
            "Epoch 87/100\n",
            "188/188 [==============================] - 1s 3ms/step - loss: 0.3552 - accuracy: 0.8547 - val_loss: 0.3604 - val_accuracy: 0.8520\n",
            "Epoch 88/100\n",
            "188/188 [==============================] - 1s 3ms/step - loss: 0.3565 - accuracy: 0.8512 - val_loss: 0.3699 - val_accuracy: 0.8393\n",
            "Epoch 89/100\n",
            "188/188 [==============================] - 1s 3ms/step - loss: 0.3534 - accuracy: 0.8545 - val_loss: 0.3653 - val_accuracy: 0.8447\n",
            "Epoch 90/100\n",
            "188/188 [==============================] - 1s 3ms/step - loss: 0.3562 - accuracy: 0.8510 - val_loss: 0.3670 - val_accuracy: 0.8453\n",
            "Epoch 91/100\n",
            "188/188 [==============================] - 1s 3ms/step - loss: 0.3651 - accuracy: 0.8505 - val_loss: 0.3663 - val_accuracy: 0.8440\n",
            "Epoch 92/100\n",
            "188/188 [==============================] - 1s 3ms/step - loss: 0.3526 - accuracy: 0.8550 - val_loss: 0.3663 - val_accuracy: 0.8367\n",
            "Epoch 93/100\n",
            "188/188 [==============================] - 1s 3ms/step - loss: 0.3550 - accuracy: 0.8548 - val_loss: 0.3658 - val_accuracy: 0.8480\n",
            "Epoch 94/100\n",
            "188/188 [==============================] - 1s 3ms/step - loss: 0.3604 - accuracy: 0.8523 - val_loss: 0.3677 - val_accuracy: 0.8427\n",
            "Epoch 95/100\n",
            "188/188 [==============================] - 1s 3ms/step - loss: 0.3561 - accuracy: 0.8500 - val_loss: 0.3640 - val_accuracy: 0.8487\n",
            "Epoch 96/100\n",
            "188/188 [==============================] - 1s 3ms/step - loss: 0.3531 - accuracy: 0.8558 - val_loss: 0.3625 - val_accuracy: 0.8467\n",
            "Epoch 97/100\n",
            "188/188 [==============================] - 1s 3ms/step - loss: 0.3498 - accuracy: 0.8508 - val_loss: 0.3602 - val_accuracy: 0.8467\n",
            "Epoch 98/100\n",
            "188/188 [==============================] - 1s 3ms/step - loss: 0.3558 - accuracy: 0.8508 - val_loss: 0.3615 - val_accuracy: 0.8453\n",
            "Epoch 99/100\n",
            "188/188 [==============================] - 1s 3ms/step - loss: 0.3565 - accuracy: 0.8500 - val_loss: 0.3646 - val_accuracy: 0.8453\n",
            "Epoch 100/100\n",
            "188/188 [==============================] - 1s 3ms/step - loss: 0.3546 - accuracy: 0.8523 - val_loss: 0.3639 - val_accuracy: 0.8447\n"
          ],
          "name": "stdout"
        },
        {
          "output_type": "execute_result",
          "data": {
            "text/plain": [
              "<tensorflow.python.keras.callbacks.History at 0x7ff3800d3128>"
            ]
          },
          "metadata": {
            "tags": []
          },
          "execution_count": 19
        }
      ]
    },
    {
      "cell_type": "code",
      "metadata": {
        "id": "apW9xAz-Irtx",
        "colab_type": "code",
        "colab": {}
      },
      "source": [
        "y_pred = model.predict(X_test)\n",
        "y_pred = np.round(y_pred)"
      ],
      "execution_count": 0,
      "outputs": []
    },
    {
      "cell_type": "code",
      "metadata": {
        "id": "VV2rcsanIJta",
        "colab_type": "code",
        "colab": {}
      },
      "source": [
        "from sklearn.metrics import accuracy_score, confusion_matrix, classification_report"
      ],
      "execution_count": 0,
      "outputs": []
    },
    {
      "cell_type": "code",
      "metadata": {
        "id": "d2gL8Ot_IoA1",
        "colab_type": "code",
        "colab": {
          "base_uri": "https://localhost:8080/",
          "height": 35
        },
        "outputId": "ec1c40f8-9e6e-4f12-b531-90a358c90f61"
      },
      "source": [
        "accuracy_score(y_test, y_pred)"
      ],
      "execution_count": 22,
      "outputs": [
        {
          "output_type": "execute_result",
          "data": {
            "text/plain": [
              "0.8548"
            ]
          },
          "metadata": {
            "tags": []
          },
          "execution_count": 22
        }
      ]
    },
    {
      "cell_type": "code",
      "metadata": {
        "id": "m2CLgmpgJEYY",
        "colab_type": "code",
        "colab": {
          "base_uri": "https://localhost:8080/",
          "height": 53
        },
        "outputId": "48319f45-b266-468c-bd4e-952d7ab08d96"
      },
      "source": [
        "confusion_matrix(y_test, y_pred)"
      ],
      "execution_count": 23,
      "outputs": [
        {
          "output_type": "execute_result",
          "data": {
            "text/plain": [
              "array([[1957,   34],\n",
              "       [ 329,  180]])"
            ]
          },
          "metadata": {
            "tags": []
          },
          "execution_count": 23
        }
      ]
    },
    {
      "cell_type": "code",
      "metadata": {
        "id": "I02S2ClMJHgt",
        "colab_type": "code",
        "colab": {
          "base_uri": "https://localhost:8080/",
          "height": 181
        },
        "outputId": "7ced4d75-91dd-40f2-cbb3-68f9694196e6"
      },
      "source": [
        "print(classification_report(y_test, y_pred))"
      ],
      "execution_count": 24,
      "outputs": [
        {
          "output_type": "stream",
          "text": [
            "              precision    recall  f1-score   support\n",
            "\n",
            "           0       0.86      0.98      0.92      1991\n",
            "           1       0.84      0.35      0.50       509\n",
            "\n",
            "    accuracy                           0.85      2500\n",
            "   macro avg       0.85      0.67      0.71      2500\n",
            "weighted avg       0.85      0.85      0.83      2500\n",
            "\n"
          ],
          "name": "stdout"
        }
      ]
    },
    {
      "cell_type": "code",
      "metadata": {
        "id": "P57nsOddJWLE",
        "colab_type": "code",
        "colab": {}
      },
      "source": [
        "from keras"
      ],
      "execution_count": 0,
      "outputs": []
    }
  ]
}