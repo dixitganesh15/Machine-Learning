{
  "nbformat": 4,
  "nbformat_minor": 0,
  "metadata": {
    "colab": {
      "name": "Fashion MNIST.ipynb",
      "provenance": [],
      "collapsed_sections": [],
      "authorship_tag": "ABX9TyMhXhTKOukhm7ygmjI16MRk"
    },
    "kernelspec": {
      "name": "python3",
      "display_name": "Python 3"
    },
    "accelerator": "GPU"
  },
  "cells": [
    {
      "cell_type": "markdown",
      "metadata": {
        "id": "exlEp6wUVbp4",
        "colab_type": "text"
      },
      "source": [
        ""
      ]
    },
    {
      "cell_type": "code",
      "metadata": {
        "id": "aowN1keu50bw",
        "colab_type": "code",
        "colab": {}
      },
      "source": [
        "import numpy as np\n",
        "from tensorflow import keras\n",
        "import matplotlib.pyplot as plt"
      ],
      "execution_count": 0,
      "outputs": []
    },
    {
      "cell_type": "code",
      "metadata": {
        "id": "cKpbcOgk6iXp",
        "colab_type": "code",
        "colab": {}
      },
      "source": [
        "from tensorflow.keras.datasets import fashion_mnist\n",
        "data = fashion_mnist"
      ],
      "execution_count": 0,
      "outputs": []
    },
    {
      "cell_type": "code",
      "metadata": {
        "id": "u9bpK7uk6q-l",
        "colab_type": "code",
        "colab": {}
      },
      "source": [
        "(X_train,y_train),(X_test,y_test) = data.load_data()"
      ],
      "execution_count": 0,
      "outputs": []
    },
    {
      "cell_type": "code",
      "metadata": {
        "id": "VSryMF1w86oz",
        "colab_type": "code",
        "outputId": "e55d8d4c-cd28-475d-b1bd-73ac828e4987",
        "colab": {
          "base_uri": "https://localhost:8080/",
          "height": 35
        }
      },
      "source": [
        "X_train.shape, X_test.shape"
      ],
      "execution_count": 4,
      "outputs": [
        {
          "output_type": "execute_result",
          "data": {
            "text/plain": [
              "((60000, 28, 28), (10000, 28, 28))"
            ]
          },
          "metadata": {
            "tags": []
          },
          "execution_count": 4
        }
      ]
    },
    {
      "cell_type": "code",
      "metadata": {
        "id": "r9EB-mDcRag_",
        "colab_type": "code",
        "outputId": "c2fc8c7d-132e-434d-d4e5-8809deef9aab",
        "colab": {
          "base_uri": "https://localhost:8080/",
          "height": 35
        }
      },
      "source": [
        "y_train.shape, y_test.shape"
      ],
      "execution_count": 5,
      "outputs": [
        {
          "output_type": "execute_result",
          "data": {
            "text/plain": [
              "((60000,), (10000,))"
            ]
          },
          "metadata": {
            "tags": []
          },
          "execution_count": 5
        }
      ]
    },
    {
      "cell_type": "code",
      "metadata": {
        "id": "0-S2F3onRaRt",
        "colab_type": "code",
        "outputId": "38d520ef-2823-4a89-fa9c-f78947bb8e1c",
        "colab": {
          "base_uri": "https://localhost:8080/",
          "height": 35
        }
      },
      "source": [
        "X_train[0].shape"
      ],
      "execution_count": 6,
      "outputs": [
        {
          "output_type": "execute_result",
          "data": {
            "text/plain": [
              "(28, 28)"
            ]
          },
          "metadata": {
            "tags": []
          },
          "execution_count": 6
        }
      ]
    },
    {
      "cell_type": "code",
      "metadata": {
        "id": "f7yAwsvsRaAT",
        "colab_type": "code",
        "colab": {
          "base_uri": "https://localhost:8080/",
          "height": 279
        },
        "outputId": "98a6e9c9-a9c2-48bb-b9ba-97226fb73126"
      },
      "source": [
        "plt.imshow(X_train[0])\n",
        "plt.colorbar()\n",
        "plt.xlabel(y_train[0])\n",
        "plt.show()"
      ],
      "execution_count": 7,
      "outputs": [
        {
          "output_type": "display_data",
          "data": {
            "image/png": "[encoded data removed]",
            "text/plain": [
              "<Figure size 432x288 with 2 Axes>"
            ]
          },
          "metadata": {
            "tags": [],
            "needs_background": "light"
          }
        }
      ]
    },
    {
      "cell_type": "code",
      "metadata": {
        "id": "dkYRAhc4Y6M8",
        "colab_type": "code",
        "colab": {}
      },
      "source": [
        "X_train = X_train/255.0\n",
        "X_test = X_test/255.0"
      ],
      "execution_count": 0,
      "outputs": []
    },
    {
      "cell_type": "code",
      "metadata": {
        "id": "4I-Nawx-ZRLR",
        "colab_type": "code",
        "colab": {
          "base_uri": "https://localhost:8080/",
          "height": 1000
        },
        "outputId": "e71e2415-72e3-4fca-cea6-3ab133ff6f04"
      },
      "source": [
        "for i in range(5):\n",
        "  plt.imshow(X_train[i])\n",
        "  plt.show()"
      ],
      "execution_count": 9,
      "outputs": [
        {
          "output_type": "display_data",
          "data": {
            "image/png": "[encoded data removed]",
            "text/plain": [
              "<Figure size 432x288 with 1 Axes>"
            ]
          },
          "metadata": {
            "tags": [],
            "needs_background": "light"
          }
        },
        {
          "output_type": "display_data",
          "data": {
            "image/png": "[encoded data removed]",
            "text/plain": [
              "<Figure size 432x288 with 1 Axes>"
            ]
          },
          "metadata": {
            "tags": [],
            "needs_background": "light"
          }
        },
        {
          "output_type": "display_data",
          "data": {
            "image/png": "[encoded data removed]",
            "text/plain": [
              "<Figure size 432x288 with 1 Axes>"
            ]
          },
          "metadata": {
            "tags": [],
            "needs_background": "light"
          }
        },
        {
          "output_type": "display_data",
          "data": {
            "image/png": "[encoded data removed]",
            "text/plain": [
              "<Figure size 432x288 with 1 Axes>"
            ]
          },
          "metadata": {
            "tags": [],
            "needs_background": "light"
          }
        },
        {
          "output_type": "display_data",
          "data": {
            "image/png": "[encoded data removed]",
            "text/plain": [
              "<Figure size 432x288 with 1 Axes>"
            ]
          },
          "metadata": {
            "tags": [],
            "needs_background": "light"
          }
        }
      ]
    },
    {
      "cell_type": "code",
      "metadata": {
        "id": "idlnCuXh7DUj",
        "colab_type": "code",
        "colab": {}
      },
      "source": [
        "from tensorflow.keras.models import Sequential\n",
        "from tensorflow.keras.layers import Dense, Dropout, Flatten,Convolution2D, MaxPooling2D"
      ],
      "execution_count": 0,
      "outputs": []
    },
    {
      "cell_type": "code",
      "metadata": {
        "id": "i3sANuat77lD",
        "colab_type": "code",
        "colab": {}
      },
      "source": [
        "model = Sequential()\n",
        "\n",
        "model.add(Flatten())\n",
        "\n",
        "model.add(Dense(28,activation = 'relu',kernel_initializer='uniform', input_dim=28*28))\n",
        "model.add(Dense(64, activation='relu'))\n",
        "model.add(Dropout(0.2))\n",
        "model.add(Dense(128, activation='relu'))\n",
        "model.add(Dropout(0.2))\n",
        "model.add(Dense(256, activation='relu'))\n",
        "model.add(Dropout(0.2))\n",
        "model.add(Dense(128, activation='relu'))\n",
        "model.add(Dropout(0.2))\n",
        "model.add(Dense(64, activation='relu'))\n",
        "\n",
        "model.add(Dense(10, activation='softmax'))"
      ],
      "execution_count": 0,
      "outputs": []
    },
    {
      "cell_type": "code",
      "metadata": {
        "id": "sYshzA1V9KDS",
        "colab_type": "code",
        "colab": {}
      },
      "source": [
        "model.compile(optimizer='adam', loss='sparse_categorical_crossentropy', metrics=['accuracy'])"
      ],
      "execution_count": 0,
      "outputs": []
    },
    {
      "cell_type": "code",
      "metadata": {
        "id": "MjzHj7gd9q4p",
        "colab_type": "code",
        "outputId": "0334a964-ad5b-4ed3-a844-09e5cb226dad",
        "colab": {
          "base_uri": "https://localhost:8080/",
          "height": 1000
        }
      },
      "source": [
        "model.fit(X_train,y_train,epochs=50, verbose=1, batch_size=50)"
      ],
      "execution_count": 13,
      "outputs": [
        {
          "output_type": "stream",
          "text": [
            "Epoch 1/50\n",
            "1200/1200 [==============================] - 3s 2ms/step - loss: 0.6659 - accuracy: 0.7584\n",
            "Epoch 2/50\n",
            "1200/1200 [==============================] - 3s 2ms/step - loss: 0.4640 - accuracy: 0.8374\n",
            "Epoch 3/50\n",
            "1200/1200 [==============================] - 3s 2ms/step - loss: 0.4261 - accuracy: 0.8493\n",
            "Epoch 4/50\n",
            "1200/1200 [==============================] - 3s 2ms/step - loss: 0.4043 - accuracy: 0.8558\n",
            "Epoch 5/50\n",
            "1200/1200 [==============================] - 3s 2ms/step - loss: 0.3926 - accuracy: 0.8607\n",
            "Epoch 6/50\n",
            "1200/1200 [==============================] - 3s 2ms/step - loss: 0.3793 - accuracy: 0.8642\n",
            "Epoch 7/50\n",
            "1200/1200 [==============================] - 3s 2ms/step - loss: 0.3685 - accuracy: 0.8685\n",
            "Epoch 8/50\n",
            "1200/1200 [==============================] - 3s 2ms/step - loss: 0.3610 - accuracy: 0.8701\n",
            "Epoch 9/50\n",
            "1200/1200 [==============================] - 3s 2ms/step - loss: 0.3548 - accuracy: 0.8750\n",
            "Epoch 10/50\n",
            "1200/1200 [==============================] - 3s 2ms/step - loss: 0.3496 - accuracy: 0.8751\n",
            "Epoch 11/50\n",
            "1200/1200 [==============================] - 3s 2ms/step - loss: 0.3453 - accuracy: 0.8768\n",
            "Epoch 12/50\n",
            "1200/1200 [==============================] - 3s 2ms/step - loss: 0.3395 - accuracy: 0.8773\n",
            "Epoch 13/50\n",
            "1200/1200 [==============================] - 3s 2ms/step - loss: 0.3326 - accuracy: 0.8812\n",
            "Epoch 14/50\n",
            "1200/1200 [==============================] - 3s 2ms/step - loss: 0.3283 - accuracy: 0.8823\n",
            "Epoch 15/50\n",
            "1200/1200 [==============================] - 3s 2ms/step - loss: 0.3278 - accuracy: 0.8831\n",
            "Epoch 16/50\n",
            "1200/1200 [==============================] - 3s 2ms/step - loss: 0.3248 - accuracy: 0.8839\n",
            "Epoch 17/50\n",
            "1200/1200 [==============================] - 3s 2ms/step - loss: 0.3209 - accuracy: 0.8852\n",
            "Epoch 18/50\n",
            "1200/1200 [==============================] - 3s 2ms/step - loss: 0.3175 - accuracy: 0.8863\n",
            "Epoch 19/50\n",
            "1200/1200 [==============================] - 3s 2ms/step - loss: 0.3157 - accuracy: 0.8862\n",
            "Epoch 20/50\n",
            "1200/1200 [==============================] - 3s 2ms/step - loss: 0.3154 - accuracy: 0.8883\n",
            "Epoch 21/50\n",
            "1200/1200 [==============================] - 3s 2ms/step - loss: 0.3072 - accuracy: 0.8895\n",
            "Epoch 22/50\n",
            "1200/1200 [==============================] - 3s 2ms/step - loss: 0.3103 - accuracy: 0.8883\n",
            "Epoch 23/50\n",
            "1200/1200 [==============================] - 3s 2ms/step - loss: 0.3077 - accuracy: 0.8900\n",
            "Epoch 24/50\n",
            "1200/1200 [==============================] - 3s 2ms/step - loss: 0.3022 - accuracy: 0.8920\n",
            "Epoch 25/50\n",
            "1200/1200 [==============================] - 3s 2ms/step - loss: 0.3003 - accuracy: 0.8928\n",
            "Epoch 26/50\n",
            "1200/1200 [==============================] - 3s 2ms/step - loss: 0.3018 - accuracy: 0.8917\n",
            "Epoch 27/50\n",
            "1200/1200 [==============================] - 3s 2ms/step - loss: 0.2990 - accuracy: 0.8934\n",
            "Epoch 28/50\n",
            "1200/1200 [==============================] - 3s 2ms/step - loss: 0.2985 - accuracy: 0.8920\n",
            "Epoch 29/50\n",
            "1200/1200 [==============================] - 3s 2ms/step - loss: 0.2968 - accuracy: 0.8942\n",
            "Epoch 30/50\n",
            "1200/1200 [==============================] - 3s 2ms/step - loss: 0.2962 - accuracy: 0.8937\n",
            "Epoch 31/50\n",
            "1200/1200 [==============================] - 3s 2ms/step - loss: 0.2951 - accuracy: 0.8931\n",
            "Epoch 32/50\n",
            "1200/1200 [==============================] - 3s 2ms/step - loss: 0.2891 - accuracy: 0.8964\n",
            "Epoch 33/50\n",
            "1200/1200 [==============================] - 3s 2ms/step - loss: 0.2901 - accuracy: 0.8972\n",
            "Epoch 34/50\n",
            "1200/1200 [==============================] - 3s 2ms/step - loss: 0.2918 - accuracy: 0.8944\n",
            "Epoch 35/50\n",
            "1200/1200 [==============================] - 3s 2ms/step - loss: 0.2854 - accuracy: 0.8976\n",
            "Epoch 36/50\n",
            "1200/1200 [==============================] - 3s 2ms/step - loss: 0.2840 - accuracy: 0.8978\n",
            "Epoch 37/50\n",
            "1200/1200 [==============================] - 3s 2ms/step - loss: 0.2848 - accuracy: 0.8974\n",
            "Epoch 38/50\n",
            "1200/1200 [==============================] - 3s 2ms/step - loss: 0.2833 - accuracy: 0.8981\n",
            "Epoch 39/50\n",
            "1200/1200 [==============================] - 3s 2ms/step - loss: 0.2826 - accuracy: 0.8975\n",
            "Epoch 40/50\n",
            "1200/1200 [==============================] - 3s 2ms/step - loss: 0.2817 - accuracy: 0.8981\n",
            "Epoch 41/50\n",
            "1200/1200 [==============================] - 3s 2ms/step - loss: 0.2784 - accuracy: 0.8994\n",
            "Epoch 42/50\n",
            "1200/1200 [==============================] - 3s 2ms/step - loss: 0.2782 - accuracy: 0.8997\n",
            "Epoch 43/50\n",
            "1200/1200 [==============================] - 3s 2ms/step - loss: 0.2779 - accuracy: 0.8995\n",
            "Epoch 44/50\n",
            "1200/1200 [==============================] - 3s 2ms/step - loss: 0.2809 - accuracy: 0.8990\n",
            "Epoch 45/50\n",
            "1200/1200 [==============================] - 3s 2ms/step - loss: 0.2766 - accuracy: 0.9008\n",
            "Epoch 46/50\n",
            "1200/1200 [==============================] - 3s 2ms/step - loss: 0.2750 - accuracy: 0.9010\n",
            "Epoch 47/50\n",
            "1200/1200 [==============================] - 3s 2ms/step - loss: 0.2742 - accuracy: 0.9001\n",
            "Epoch 48/50\n",
            "1200/1200 [==============================] - 3s 2ms/step - loss: 0.2767 - accuracy: 0.9004\n",
            "Epoch 49/50\n",
            "1200/1200 [==============================] - 3s 2ms/step - loss: 0.2718 - accuracy: 0.9019\n",
            "Epoch 50/50\n",
            "1200/1200 [==============================] - 3s 2ms/step - loss: 0.2744 - accuracy: 0.9001\n"
          ],
          "name": "stdout"
        },
        {
          "output_type": "execute_result",
          "data": {
            "text/plain": [
              "<tensorflow.python.keras.callbacks.History at 0x7fd76f37d358>"
            ]
          },
          "metadata": {
            "tags": []
          },
          "execution_count": 13
        }
      ]
    },
    {
      "cell_type": "markdown",
      "metadata": {
        "id": "CVFfR7v29v2l",
        "colab_type": "text"
      },
      "source": [
        ""
      ]
    },
    {
      "cell_type": "code",
      "metadata": {
        "id": "PRgYpn0pdMKY",
        "colab_type": "code",
        "outputId": "e571f644-4de0-4328-e69d-df175dad6367",
        "colab": {
          "base_uri": "https://localhost:8080/",
          "height": 53
        }
      },
      "source": [
        "model.evaluate(X_test,y_test)"
      ],
      "execution_count": 14,
      "outputs": [
        {
          "output_type": "stream",
          "text": [
            "313/313 [==============================] - 1s 2ms/step - loss: 0.3750 - accuracy: 0.8720\n"
          ],
          "name": "stdout"
        },
        {
          "output_type": "execute_result",
          "data": {
            "text/plain": [
              "[0.3749624490737915, 0.871999979019165]"
            ]
          },
          "metadata": {
            "tags": []
          },
          "execution_count": 14
        }
      ]
    },
    {
      "cell_type": "code",
      "metadata": {
        "id": "Rq1yiXxavDqt",
        "colab_type": "code",
        "colab": {}
      },
      "source": [
        ""
      ],
      "execution_count": 0,
      "outputs": []
    },
    {
      "cell_type": "markdown",
      "metadata": {
        "id": "CMfO51rcdP-N",
        "colab_type": "text"
      },
      "source": [
        ""
      ]
    }
  ]
}